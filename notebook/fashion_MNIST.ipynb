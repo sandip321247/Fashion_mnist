{
  "nbformat": 4,
  "nbformat_minor": 0,
  "metadata": {
    "colab": {
      "provenance": [],
      "gpuType": "T4"
    },
    "kernelspec": {
      "name": "python3",
      "display_name": "Python 3"
    },
    "language_info": {
      "name": "python"
    },
    "accelerator": "GPU"
  },
  "cells": [
    {
      "cell_type": "code",
      "execution_count": 1,
      "metadata": {
        "id": "ncfqJ3gkEfPL"
      },
      "outputs": [],
      "source": [
        "#set seed for reproducibility\n",
        "import random\n",
        "random.seed(0)\n",
        "\n",
        "import numpy as np\n",
        "np.random.seed(0)\n",
        "\n",
        "import tensorflow as tf\n",
        "tf.random.set_seed(0)"
      ]
    },
    {
      "cell_type": "code",
      "source": [
        "from tensorflow.keras import layers , models\n",
        "import tensorflow as tf\n",
        "import matplotlib.pyplot as plt"
      ],
      "metadata": {
        "id": "CJrqmLMNVk-H"
      },
      "execution_count": 3,
      "outputs": []
    },
    {
      "cell_type": "code",
      "source": [
        "\n",
        "fashion_mnist = tf.keras.datasets.fashion_mnist\n",
        "(train_images , train_labels) , (test_images , test_labels) = fashion_mnist.load_data()"
      ],
      "metadata": {
        "colab": {
          "base_uri": "https://localhost:8080/"
        },
        "id": "oFKHwdEliaj9",
        "outputId": "5231f4b2-856e-4746-8eb9-8385cb51770c"
      },
      "execution_count": 6,
      "outputs": [
        {
          "output_type": "stream",
          "name": "stdout",
          "text": [
            "Downloading data from https://storage.googleapis.com/tensorflow/tf-keras-datasets/train-labels-idx1-ubyte.gz\n",
            "29515/29515 [==============================] - 0s 0us/step\n",
            "Downloading data from https://storage.googleapis.com/tensorflow/tf-keras-datasets/train-images-idx3-ubyte.gz\n",
            "26421880/26421880 [==============================] - 2s 0us/step\n",
            "Downloading data from https://storage.googleapis.com/tensorflow/tf-keras-datasets/t10k-labels-idx1-ubyte.gz\n",
            "5148/5148 [==============================] - 0s 0us/step\n",
            "Downloading data from https://storage.googleapis.com/tensorflow/tf-keras-datasets/t10k-images-idx3-ubyte.gz\n",
            "4422102/4422102 [==============================] - 1s 0us/step\n"
          ]
        }
      ]
    },
    {
      "cell_type": "code",
      "source": [
        "type(train_images)"
      ],
      "metadata": {
        "colab": {
          "base_uri": "https://localhost:8080/"
        },
        "id": "QdqqbuMTisQA",
        "outputId": "86219caa-e46d-4881-dedd-83ab6d5c8fb8"
      },
      "execution_count": 9,
      "outputs": [
        {
          "output_type": "execute_result",
          "data": {
            "text/plain": [
              "numpy.ndarray"
            ]
          },
          "metadata": {},
          "execution_count": 9
        }
      ]
    },
    {
      "cell_type": "code",
      "source": [
        "type(train_labels)"
      ],
      "metadata": {
        "colab": {
          "base_uri": "https://localhost:8080/"
        },
        "id": "ikK-sZzpjRTV",
        "outputId": "3ce0285f-04d1-4729-fb90-9dabb05fffb8"
      },
      "execution_count": 10,
      "outputs": [
        {
          "output_type": "execute_result",
          "data": {
            "text/plain": [
              "numpy.ndarray"
            ]
          },
          "metadata": {},
          "execution_count": 10
        }
      ]
    },
    {
      "cell_type": "code",
      "source": [
        "print(len(train_images))\n",
        "print(len(train_labels))\n",
        "print(len(test_images))\n",
        "print(len(test_labels))"
      ],
      "metadata": {
        "colab": {
          "base_uri": "https://localhost:8080/"
        },
        "id": "axRd2JmzjTkJ",
        "outputId": "a8e74ca2-40b6-4c82-a954-0c7be2d8b388"
      },
      "execution_count": 12,
      "outputs": [
        {
          "output_type": "stream",
          "name": "stdout",
          "text": [
            "60000\n",
            "60000\n",
            "10000\n",
            "10000\n"
          ]
        }
      ]
    },
    {
      "cell_type": "code",
      "source": [
        "print(train_images[0].shape)"
      ],
      "metadata": {
        "colab": {
          "base_uri": "https://localhost:8080/"
        },
        "id": "OduYH-BZjbbO",
        "outputId": "fd417e05-c5e0-406a-acc8-4b8eddd1fb12"
      },
      "execution_count": 13,
      "outputs": [
        {
          "output_type": "stream",
          "name": "stdout",
          "text": [
            "(28, 28)\n"
          ]
        }
      ]
    },
    {
      "cell_type": "code",
      "source": [
        "print(train_images[0])"
      ],
      "metadata": {
        "colab": {
          "base_uri": "https://localhost:8080/"
        },
        "id": "N_CWHy6Ijpde",
        "outputId": "4285670c-f82b-4ab3-d114-244b2f670ef0"
      },
      "execution_count": 15,
      "outputs": [
        {
          "output_type": "stream",
          "name": "stdout",
          "text": [
            "[[  0   0   0   0   0   0   0   0   0   0   0   0   0   0   0   0   0   0\n",
            "    0   0   0   0   0   0   0   0   0   0]\n",
            " [  0   0   0   0   0   0   0   0   0   0   0   0   0   0   0   0   0   0\n",
            "    0   0   0   0   0   0   0   0   0   0]\n",
            " [  0   0   0   0   0   0   0   0   0   0   0   0   0   0   0   0   0   0\n",
            "    0   0   0   0   0   0   0   0   0   0]\n",
            " [  0   0   0   0   0   0   0   0   0   0   0   0   1   0   0  13  73   0\n",
            "    0   1   4   0   0   0   0   1   1   0]\n",
            " [  0   0   0   0   0   0   0   0   0   0   0   0   3   0  36 136 127  62\n",
            "   54   0   0   0   1   3   4   0   0   3]\n",
            " [  0   0   0   0   0   0   0   0   0   0   0   0   6   0 102 204 176 134\n",
            "  144 123  23   0   0   0   0  12  10   0]\n",
            " [  0   0   0   0   0   0   0   0   0   0   0   0   0   0 155 236 207 178\n",
            "  107 156 161 109  64  23  77 130  72  15]\n",
            " [  0   0   0   0   0   0   0   0   0   0   0   1   0  69 207 223 218 216\n",
            "  216 163 127 121 122 146 141  88 172  66]\n",
            " [  0   0   0   0   0   0   0   0   0   1   1   1   0 200 232 232 233 229\n",
            "  223 223 215 213 164 127 123 196 229   0]\n",
            " [  0   0   0   0   0   0   0   0   0   0   0   0   0 183 225 216 223 228\n",
            "  235 227 224 222 224 221 223 245 173   0]\n",
            " [  0   0   0   0   0   0   0   0   0   0   0   0   0 193 228 218 213 198\n",
            "  180 212 210 211 213 223 220 243 202   0]\n",
            " [  0   0   0   0   0   0   0   0   0   1   3   0  12 219 220 212 218 192\n",
            "  169 227 208 218 224 212 226 197 209  52]\n",
            " [  0   0   0   0   0   0   0   0   0   0   6   0  99 244 222 220 218 203\n",
            "  198 221 215 213 222 220 245 119 167  56]\n",
            " [  0   0   0   0   0   0   0   0   0   4   0   0  55 236 228 230 228 240\n",
            "  232 213 218 223 234 217 217 209  92   0]\n",
            " [  0   0   1   4   6   7   2   0   0   0   0   0 237 226 217 223 222 219\n",
            "  222 221 216 223 229 215 218 255  77   0]\n",
            " [  0   3   0   0   0   0   0   0   0  62 145 204 228 207 213 221 218 208\n",
            "  211 218 224 223 219 215 224 244 159   0]\n",
            " [  0   0   0   0  18  44  82 107 189 228 220 222 217 226 200 205 211 230\n",
            "  224 234 176 188 250 248 233 238 215   0]\n",
            " [  0  57 187 208 224 221 224 208 204 214 208 209 200 159 245 193 206 223\n",
            "  255 255 221 234 221 211 220 232 246   0]\n",
            " [  3 202 228 224 221 211 211 214 205 205 205 220 240  80 150 255 229 221\n",
            "  188 154 191 210 204 209 222 228 225   0]\n",
            " [ 98 233 198 210 222 229 229 234 249 220 194 215 217 241  65  73 106 117\n",
            "  168 219 221 215 217 223 223 224 229  29]\n",
            " [ 75 204 212 204 193 205 211 225 216 185 197 206 198 213 240 195 227 245\n",
            "  239 223 218 212 209 222 220 221 230  67]\n",
            " [ 48 203 183 194 213 197 185 190 194 192 202 214 219 221 220 236 225 216\n",
            "  199 206 186 181 177 172 181 205 206 115]\n",
            " [  0 122 219 193 179 171 183 196 204 210 213 207 211 210 200 196 194 191\n",
            "  195 191 198 192 176 156 167 177 210  92]\n",
            " [  0   0  74 189 212 191 175 172 175 181 185 188 189 188 193 198 204 209\n",
            "  210 210 211 188 188 194 192 216 170   0]\n",
            " [  2   0   0   0  66 200 222 237 239 242 246 243 244 221 220 193 191 179\n",
            "  182 182 181 176 166 168  99  58   0   0]\n",
            " [  0   0   0   0   0   0   0  40  61  44  72  41  35   0   0   0   0   0\n",
            "    0   0   0   0   0   0   0   0   0   0]\n",
            " [  0   0   0   0   0   0   0   0   0   0   0   0   0   0   0   0   0   0\n",
            "    0   0   0   0   0   0   0   0   0   0]\n",
            " [  0   0   0   0   0   0   0   0   0   0   0   0   0   0   0   0   0   0\n",
            "    0   0   0   0   0   0   0   0   0   0]]\n"
          ]
        }
      ]
    },
    {
      "cell_type": "code",
      "source": [
        "print(type(train_images[0]))"
      ],
      "metadata": {
        "colab": {
          "base_uri": "https://localhost:8080/"
        },
        "id": "V5HFSQNWj19O",
        "outputId": "83b3affe-37a9-42d8-ae99-78e858f71553"
      },
      "execution_count": 16,
      "outputs": [
        {
          "output_type": "stream",
          "name": "stdout",
          "text": [
            "<class 'numpy.ndarray'>\n"
          ]
        }
      ]
    },
    {
      "cell_type": "code",
      "source": [
        "#display an image from the dataset\n",
        "plt.imshow(train_images[0] , cmap='gray')\n",
        "plt.show()"
      ],
      "metadata": {
        "colab": {
          "base_uri": "https://localhost:8080/",
          "height": 430
        },
        "id": "kCvo_CE8kPYT",
        "outputId": "65ad5644-c5d6-4a66-d5de-d9f48baf1fdd"
      },
      "execution_count": 17,
      "outputs": [
        {
          "output_type": "display_data",
          "data": {
            "text/plain": [
              "<Figure size 640x480 with 1 Axes>"
            ],
            "image/png": "[encoded data removed]"
          },
          "metadata": {}
        }
      ]
    },
    {
      "cell_type": "code",
      "source": [
        "print(train_labels[0])"
      ],
      "metadata": {
        "colab": {
          "base_uri": "https://localhost:8080/"
        },
        "id": "2dx_npZ0klaG",
        "outputId": "2f39fc53-c6af-4282-e327-97e01d9c2cca"
      },
      "execution_count": 18,
      "outputs": [
        {
          "output_type": "stream",
          "name": "stdout",
          "text": [
            "9\n"
          ]
        }
      ]
    },
    {
      "cell_type": "code",
      "source": [
        "#normaliize pixel values to be between 0 and 1\n",
        "train_images = train_images/255.0\n",
        "test_images = test_images/255.0"
      ],
      "metadata": {
        "id": "C8jDABrqks0p"
      },
      "execution_count": 19,
      "outputs": []
    },
    {
      "cell_type": "code",
      "source": [
        "#reshape images to specify that its a single channel( grayscale)\n",
        "train_images = train_images.reshape((train_images.shape[0], 28 , 28 ,1))\n",
        "test_images = test_images.reshape((test_images.shape[0], 28 , 28 , 1))"
      ],
      "metadata": {
        "id": "KM21M-lKmJb5"
      },
      "execution_count": 21,
      "outputs": []
    },
    {
      "cell_type": "code",
      "source": [
        "print(train_images[0])"
      ],
      "metadata": {
        "colab": {
          "base_uri": "https://localhost:8080/"
        },
        "id": "fUNSwvVQsEkb",
        "outputId": "505704bc-d24a-47ee-92db-3f13cee6d719"
      },
      "execution_count": 29,
      "outputs": [
        {
          "output_type": "stream",
          "name": "stdout",
          "text": [
            "[[[0.        ]\n",
            "  [0.        ]\n",
            "  [0.        ]\n",
            "  [0.        ]\n",
            "  [0.        ]\n",
            "  [0.        ]\n",
            "  [0.        ]\n",
            "  [0.        ]\n",
            "  [0.        ]\n",
            "  [0.        ]\n",
            "  [0.        ]\n",
            "  [0.        ]\n",
            "  [0.        ]\n",
            "  [0.        ]\n",
            "  [0.        ]\n",
            "  [0.        ]\n",
            "  [0.        ]\n",
            "  [0.        ]\n",
            "  [0.        ]\n",
            "  [0.        ]\n",
            "  [0.        ]\n",
            "  [0.        ]\n",
            "  [0.        ]\n",
            "  [0.        ]\n",
            "  [0.        ]\n",
            "  [0.        ]\n",
            "  [0.        ]\n",
            "  [0.        ]]\n",
            "\n",
            " [[0.        ]\n",
            "  [0.        ]\n",
            "  [0.        ]\n",
            "  [0.        ]\n",
            "  [0.        ]\n",
            "  [0.        ]\n",
            "  [0.        ]\n",
            "  [0.        ]\n",
            "  [0.        ]\n",
            "  [0.        ]\n",
            "  [0.        ]\n",
            "  [0.        ]\n",
            "  [0.        ]\n",
            "  [0.        ]\n",
            "  [0.        ]\n",
            "  [0.        ]\n",
            "  [0.        ]\n",
            "  [0.        ]\n",
            "  [0.        ]\n",
            "  [0.        ]\n",
            "  [0.        ]\n",
            "  [0.        ]\n",
            "  [0.        ]\n",
            "  [0.        ]\n",
            "  [0.        ]\n",
            "  [0.        ]\n",
            "  [0.        ]\n",
            "  [0.        ]]\n",
            "\n",
            " [[0.        ]\n",
            "  [0.        ]\n",
            "  [0.        ]\n",
            "  [0.        ]\n",
            "  [0.        ]\n",
            "  [0.        ]\n",
            "  [0.        ]\n",
            "  [0.        ]\n",
            "  [0.        ]\n",
            "  [0.        ]\n",
            "  [0.        ]\n",
            "  [0.        ]\n",
            "  [0.        ]\n",
            "  [0.        ]\n",
            "  [0.        ]\n",
            "  [0.        ]\n",
            "  [0.        ]\n",
            "  [0.        ]\n",
            "  [0.        ]\n",
            "  [0.        ]\n",
            "  [0.        ]\n",
            "  [0.        ]\n",
            "  [0.        ]\n",
            "  [0.        ]\n",
            "  [0.        ]\n",
            "  [0.        ]\n",
            "  [0.        ]\n",
            "  [0.        ]]\n",
            "\n",
            " [[0.        ]\n",
            "  [0.        ]\n",
            "  [0.        ]\n",
            "  [0.        ]\n",
            "  [0.        ]\n",
            "  [0.        ]\n",
            "  [0.        ]\n",
            "  [0.        ]\n",
            "  [0.        ]\n",
            "  [0.        ]\n",
            "  [0.        ]\n",
            "  [0.        ]\n",
            "  [0.00392157]\n",
            "  [0.        ]\n",
            "  [0.        ]\n",
            "  [0.05098039]\n",
            "  [0.28627451]\n",
            "  [0.        ]\n",
            "  [0.        ]\n",
            "  [0.00392157]\n",
            "  [0.01568627]\n",
            "  [0.        ]\n",
            "  [0.        ]\n",
            "  [0.        ]\n",
            "  [0.        ]\n",
            "  [0.00392157]\n",
            "  [0.00392157]\n",
            "  [0.        ]]\n",
            "\n",
            " [[0.        ]\n",
            "  [0.        ]\n",
            "  [0.        ]\n",
            "  [0.        ]\n",
            "  [0.        ]\n",
            "  [0.        ]\n",
            "  [0.        ]\n",
            "  [0.        ]\n",
            "  [0.        ]\n",
            "  [0.        ]\n",
            "  [0.        ]\n",
            "  [0.        ]\n",
            "  [0.01176471]\n",
            "  [0.        ]\n",
            "  [0.14117647]\n",
            "  [0.53333333]\n",
            "  [0.49803922]\n",
            "  [0.24313725]\n",
            "  [0.21176471]\n",
            "  [0.        ]\n",
            "  [0.        ]\n",
            "  [0.        ]\n",
            "  [0.00392157]\n",
            "  [0.01176471]\n",
            "  [0.01568627]\n",
            "  [0.        ]\n",
            "  [0.        ]\n",
            "  [0.01176471]]\n",
            "\n",
            " [[0.        ]\n",
            "  [0.        ]\n",
            "  [0.        ]\n",
            "  [0.        ]\n",
            "  [0.        ]\n",
            "  [0.        ]\n",
            "  [0.        ]\n",
            "  [0.        ]\n",
            "  [0.        ]\n",
            "  [0.        ]\n",
            "  [0.        ]\n",
            "  [0.        ]\n",
            "  [0.02352941]\n",
            "  [0.        ]\n",
            "  [0.4       ]\n",
            "  [0.8       ]\n",
            "  [0.69019608]\n",
            "  [0.5254902 ]\n",
            "  [0.56470588]\n",
            "  [0.48235294]\n",
            "  [0.09019608]\n",
            "  [0.        ]\n",
            "  [0.        ]\n",
            "  [0.        ]\n",
            "  [0.        ]\n",
            "  [0.04705882]\n",
            "  [0.03921569]\n",
            "  [0.        ]]\n",
            "\n",
            " [[0.        ]\n",
            "  [0.        ]\n",
            "  [0.        ]\n",
            "  [0.        ]\n",
            "  [0.        ]\n",
            "  [0.        ]\n",
            "  [0.        ]\n",
            "  [0.        ]\n",
            "  [0.        ]\n",
            "  [0.        ]\n",
            "  [0.        ]\n",
            "  [0.        ]\n",
            "  [0.        ]\n",
            "  [0.        ]\n",
            "  [0.60784314]\n",
            "  [0.9254902 ]\n",
            "  [0.81176471]\n",
            "  [0.69803922]\n",
            "  [0.41960784]\n",
            "  [0.61176471]\n",
            "  [0.63137255]\n",
            "  [0.42745098]\n",
            "  [0.25098039]\n",
            "  [0.09019608]\n",
            "  [0.30196078]\n",
            "  [0.50980392]\n",
            "  [0.28235294]\n",
            "  [0.05882353]]\n",
            "\n",
            " [[0.        ]\n",
            "  [0.        ]\n",
            "  [0.        ]\n",
            "  [0.        ]\n",
            "  [0.        ]\n",
            "  [0.        ]\n",
            "  [0.        ]\n",
            "  [0.        ]\n",
            "  [0.        ]\n",
            "  [0.        ]\n",
            "  [0.        ]\n",
            "  [0.00392157]\n",
            "  [0.        ]\n",
            "  [0.27058824]\n",
            "  [0.81176471]\n",
            "  [0.8745098 ]\n",
            "  [0.85490196]\n",
            "  [0.84705882]\n",
            "  [0.84705882]\n",
            "  [0.63921569]\n",
            "  [0.49803922]\n",
            "  [0.4745098 ]\n",
            "  [0.47843137]\n",
            "  [0.57254902]\n",
            "  [0.55294118]\n",
            "  [0.34509804]\n",
            "  [0.6745098 ]\n",
            "  [0.25882353]]\n",
            "\n",
            " [[0.        ]\n",
            "  [0.        ]\n",
            "  [0.        ]\n",
            "  [0.        ]\n",
            "  [0.        ]\n",
            "  [0.        ]\n",
            "  [0.        ]\n",
            "  [0.        ]\n",
            "  [0.        ]\n",
            "  [0.00392157]\n",
            "  [0.00392157]\n",
            "  [0.00392157]\n",
            "  [0.        ]\n",
            "  [0.78431373]\n",
            "  [0.90980392]\n",
            "  [0.90980392]\n",
            "  [0.91372549]\n",
            "  [0.89803922]\n",
            "  [0.8745098 ]\n",
            "  [0.8745098 ]\n",
            "  [0.84313725]\n",
            "  [0.83529412]\n",
            "  [0.64313725]\n",
            "  [0.49803922]\n",
            "  [0.48235294]\n",
            "  [0.76862745]\n",
            "  [0.89803922]\n",
            "  [0.        ]]\n",
            "\n",
            " [[0.        ]\n",
            "  [0.        ]\n",
            "  [0.        ]\n",
            "  [0.        ]\n",
            "  [0.        ]\n",
            "  [0.        ]\n",
            "  [0.        ]\n",
            "  [0.        ]\n",
            "  [0.        ]\n",
            "  [0.        ]\n",
            "  [0.        ]\n",
            "  [0.        ]\n",
            "  [0.        ]\n",
            "  [0.71764706]\n",
            "  [0.88235294]\n",
            "  [0.84705882]\n",
            "  [0.8745098 ]\n",
            "  [0.89411765]\n",
            "  [0.92156863]\n",
            "  [0.89019608]\n",
            "  [0.87843137]\n",
            "  [0.87058824]\n",
            "  [0.87843137]\n",
            "  [0.86666667]\n",
            "  [0.8745098 ]\n",
            "  [0.96078431]\n",
            "  [0.67843137]\n",
            "  [0.        ]]\n",
            "\n",
            " [[0.        ]\n",
            "  [0.        ]\n",
            "  [0.        ]\n",
            "  [0.        ]\n",
            "  [0.        ]\n",
            "  [0.        ]\n",
            "  [0.        ]\n",
            "  [0.        ]\n",
            "  [0.        ]\n",
            "  [0.        ]\n",
            "  [0.        ]\n",
            "  [0.        ]\n",
            "  [0.        ]\n",
            "  [0.75686275]\n",
            "  [0.89411765]\n",
            "  [0.85490196]\n",
            "  [0.83529412]\n",
            "  [0.77647059]\n",
            "  [0.70588235]\n",
            "  [0.83137255]\n",
            "  [0.82352941]\n",
            "  [0.82745098]\n",
            "  [0.83529412]\n",
            "  [0.8745098 ]\n",
            "  [0.8627451 ]\n",
            "  [0.95294118]\n",
            "  [0.79215686]\n",
            "  [0.        ]]\n",
            "\n",
            " [[0.        ]\n",
            "  [0.        ]\n",
            "  [0.        ]\n",
            "  [0.        ]\n",
            "  [0.        ]\n",
            "  [0.        ]\n",
            "  [0.        ]\n",
            "  [0.        ]\n",
            "  [0.        ]\n",
            "  [0.00392157]\n",
            "  [0.01176471]\n",
            "  [0.        ]\n",
            "  [0.04705882]\n",
            "  [0.85882353]\n",
            "  [0.8627451 ]\n",
            "  [0.83137255]\n",
            "  [0.85490196]\n",
            "  [0.75294118]\n",
            "  [0.6627451 ]\n",
            "  [0.89019608]\n",
            "  [0.81568627]\n",
            "  [0.85490196]\n",
            "  [0.87843137]\n",
            "  [0.83137255]\n",
            "  [0.88627451]\n",
            "  [0.77254902]\n",
            "  [0.81960784]\n",
            "  [0.20392157]]\n",
            "\n",
            " [[0.        ]\n",
            "  [0.        ]\n",
            "  [0.        ]\n",
            "  [0.        ]\n",
            "  [0.        ]\n",
            "  [0.        ]\n",
            "  [0.        ]\n",
            "  [0.        ]\n",
            "  [0.        ]\n",
            "  [0.        ]\n",
            "  [0.02352941]\n",
            "  [0.        ]\n",
            "  [0.38823529]\n",
            "  [0.95686275]\n",
            "  [0.87058824]\n",
            "  [0.8627451 ]\n",
            "  [0.85490196]\n",
            "  [0.79607843]\n",
            "  [0.77647059]\n",
            "  [0.86666667]\n",
            "  [0.84313725]\n",
            "  [0.83529412]\n",
            "  [0.87058824]\n",
            "  [0.8627451 ]\n",
            "  [0.96078431]\n",
            "  [0.46666667]\n",
            "  [0.65490196]\n",
            "  [0.21960784]]\n",
            "\n",
            " [[0.        ]\n",
            "  [0.        ]\n",
            "  [0.        ]\n",
            "  [0.        ]\n",
            "  [0.        ]\n",
            "  [0.        ]\n",
            "  [0.        ]\n",
            "  [0.        ]\n",
            "  [0.        ]\n",
            "  [0.01568627]\n",
            "  [0.        ]\n",
            "  [0.        ]\n",
            "  [0.21568627]\n",
            "  [0.9254902 ]\n",
            "  [0.89411765]\n",
            "  [0.90196078]\n",
            "  [0.89411765]\n",
            "  [0.94117647]\n",
            "  [0.90980392]\n",
            "  [0.83529412]\n",
            "  [0.85490196]\n",
            "  [0.8745098 ]\n",
            "  [0.91764706]\n",
            "  [0.85098039]\n",
            "  [0.85098039]\n",
            "  [0.81960784]\n",
            "  [0.36078431]\n",
            "  [0.        ]]\n",
            "\n",
            " [[0.        ]\n",
            "  [0.        ]\n",
            "  [0.00392157]\n",
            "  [0.01568627]\n",
            "  [0.02352941]\n",
            "  [0.02745098]\n",
            "  [0.00784314]\n",
            "  [0.        ]\n",
            "  [0.        ]\n",
            "  [0.        ]\n",
            "  [0.        ]\n",
            "  [0.        ]\n",
            "  [0.92941176]\n",
            "  [0.88627451]\n",
            "  [0.85098039]\n",
            "  [0.8745098 ]\n",
            "  [0.87058824]\n",
            "  [0.85882353]\n",
            "  [0.87058824]\n",
            "  [0.86666667]\n",
            "  [0.84705882]\n",
            "  [0.8745098 ]\n",
            "  [0.89803922]\n",
            "  [0.84313725]\n",
            "  [0.85490196]\n",
            "  [1.        ]\n",
            "  [0.30196078]\n",
            "  [0.        ]]\n",
            "\n",
            " [[0.        ]\n",
            "  [0.01176471]\n",
            "  [0.        ]\n",
            "  [0.        ]\n",
            "  [0.        ]\n",
            "  [0.        ]\n",
            "  [0.        ]\n",
            "  [0.        ]\n",
            "  [0.        ]\n",
            "  [0.24313725]\n",
            "  [0.56862745]\n",
            "  [0.8       ]\n",
            "  [0.89411765]\n",
            "  [0.81176471]\n",
            "  [0.83529412]\n",
            "  [0.86666667]\n",
            "  [0.85490196]\n",
            "  [0.81568627]\n",
            "  [0.82745098]\n",
            "  [0.85490196]\n",
            "  [0.87843137]\n",
            "  [0.8745098 ]\n",
            "  [0.85882353]\n",
            "  [0.84313725]\n",
            "  [0.87843137]\n",
            "  [0.95686275]\n",
            "  [0.62352941]\n",
            "  [0.        ]]\n",
            "\n",
            " [[0.        ]\n",
            "  [0.        ]\n",
            "  [0.        ]\n",
            "  [0.        ]\n",
            "  [0.07058824]\n",
            "  [0.17254902]\n",
            "  [0.32156863]\n",
            "  [0.41960784]\n",
            "  [0.74117647]\n",
            "  [0.89411765]\n",
            "  [0.8627451 ]\n",
            "  [0.87058824]\n",
            "  [0.85098039]\n",
            "  [0.88627451]\n",
            "  [0.78431373]\n",
            "  [0.80392157]\n",
            "  [0.82745098]\n",
            "  [0.90196078]\n",
            "  [0.87843137]\n",
            "  [0.91764706]\n",
            "  [0.69019608]\n",
            "  [0.7372549 ]\n",
            "  [0.98039216]\n",
            "  [0.97254902]\n",
            "  [0.91372549]\n",
            "  [0.93333333]\n",
            "  [0.84313725]\n",
            "  [0.        ]]\n",
            "\n",
            " [[0.        ]\n",
            "  [0.22352941]\n",
            "  [0.73333333]\n",
            "  [0.81568627]\n",
            "  [0.87843137]\n",
            "  [0.86666667]\n",
            "  [0.87843137]\n",
            "  [0.81568627]\n",
            "  [0.8       ]\n",
            "  [0.83921569]\n",
            "  [0.81568627]\n",
            "  [0.81960784]\n",
            "  [0.78431373]\n",
            "  [0.62352941]\n",
            "  [0.96078431]\n",
            "  [0.75686275]\n",
            "  [0.80784314]\n",
            "  [0.8745098 ]\n",
            "  [1.        ]\n",
            "  [1.        ]\n",
            "  [0.86666667]\n",
            "  [0.91764706]\n",
            "  [0.86666667]\n",
            "  [0.82745098]\n",
            "  [0.8627451 ]\n",
            "  [0.90980392]\n",
            "  [0.96470588]\n",
            "  [0.        ]]\n",
            "\n",
            " [[0.01176471]\n",
            "  [0.79215686]\n",
            "  [0.89411765]\n",
            "  [0.87843137]\n",
            "  [0.86666667]\n",
            "  [0.82745098]\n",
            "  [0.82745098]\n",
            "  [0.83921569]\n",
            "  [0.80392157]\n",
            "  [0.80392157]\n",
            "  [0.80392157]\n",
            "  [0.8627451 ]\n",
            "  [0.94117647]\n",
            "  [0.31372549]\n",
            "  [0.58823529]\n",
            "  [1.        ]\n",
            "  [0.89803922]\n",
            "  [0.86666667]\n",
            "  [0.7372549 ]\n",
            "  [0.60392157]\n",
            "  [0.74901961]\n",
            "  [0.82352941]\n",
            "  [0.8       ]\n",
            "  [0.81960784]\n",
            "  [0.87058824]\n",
            "  [0.89411765]\n",
            "  [0.88235294]\n",
            "  [0.        ]]\n",
            "\n",
            " [[0.38431373]\n",
            "  [0.91372549]\n",
            "  [0.77647059]\n",
            "  [0.82352941]\n",
            "  [0.87058824]\n",
            "  [0.89803922]\n",
            "  [0.89803922]\n",
            "  [0.91764706]\n",
            "  [0.97647059]\n",
            "  [0.8627451 ]\n",
            "  [0.76078431]\n",
            "  [0.84313725]\n",
            "  [0.85098039]\n",
            "  [0.94509804]\n",
            "  [0.25490196]\n",
            "  [0.28627451]\n",
            "  [0.41568627]\n",
            "  [0.45882353]\n",
            "  [0.65882353]\n",
            "  [0.85882353]\n",
            "  [0.86666667]\n",
            "  [0.84313725]\n",
            "  [0.85098039]\n",
            "  [0.8745098 ]\n",
            "  [0.8745098 ]\n",
            "  [0.87843137]\n",
            "  [0.89803922]\n",
            "  [0.11372549]]\n",
            "\n",
            " [[0.29411765]\n",
            "  [0.8       ]\n",
            "  [0.83137255]\n",
            "  [0.8       ]\n",
            "  [0.75686275]\n",
            "  [0.80392157]\n",
            "  [0.82745098]\n",
            "  [0.88235294]\n",
            "  [0.84705882]\n",
            "  [0.7254902 ]\n",
            "  [0.77254902]\n",
            "  [0.80784314]\n",
            "  [0.77647059]\n",
            "  [0.83529412]\n",
            "  [0.94117647]\n",
            "  [0.76470588]\n",
            "  [0.89019608]\n",
            "  [0.96078431]\n",
            "  [0.9372549 ]\n",
            "  [0.8745098 ]\n",
            "  [0.85490196]\n",
            "  [0.83137255]\n",
            "  [0.81960784]\n",
            "  [0.87058824]\n",
            "  [0.8627451 ]\n",
            "  [0.86666667]\n",
            "  [0.90196078]\n",
            "  [0.2627451 ]]\n",
            "\n",
            " [[0.18823529]\n",
            "  [0.79607843]\n",
            "  [0.71764706]\n",
            "  [0.76078431]\n",
            "  [0.83529412]\n",
            "  [0.77254902]\n",
            "  [0.7254902 ]\n",
            "  [0.74509804]\n",
            "  [0.76078431]\n",
            "  [0.75294118]\n",
            "  [0.79215686]\n",
            "  [0.83921569]\n",
            "  [0.85882353]\n",
            "  [0.86666667]\n",
            "  [0.8627451 ]\n",
            "  [0.9254902 ]\n",
            "  [0.88235294]\n",
            "  [0.84705882]\n",
            "  [0.78039216]\n",
            "  [0.80784314]\n",
            "  [0.72941176]\n",
            "  [0.70980392]\n",
            "  [0.69411765]\n",
            "  [0.6745098 ]\n",
            "  [0.70980392]\n",
            "  [0.80392157]\n",
            "  [0.80784314]\n",
            "  [0.45098039]]\n",
            "\n",
            " [[0.        ]\n",
            "  [0.47843137]\n",
            "  [0.85882353]\n",
            "  [0.75686275]\n",
            "  [0.70196078]\n",
            "  [0.67058824]\n",
            "  [0.71764706]\n",
            "  [0.76862745]\n",
            "  [0.8       ]\n",
            "  [0.82352941]\n",
            "  [0.83529412]\n",
            "  [0.81176471]\n",
            "  [0.82745098]\n",
            "  [0.82352941]\n",
            "  [0.78431373]\n",
            "  [0.76862745]\n",
            "  [0.76078431]\n",
            "  [0.74901961]\n",
            "  [0.76470588]\n",
            "  [0.74901961]\n",
            "  [0.77647059]\n",
            "  [0.75294118]\n",
            "  [0.69019608]\n",
            "  [0.61176471]\n",
            "  [0.65490196]\n",
            "  [0.69411765]\n",
            "  [0.82352941]\n",
            "  [0.36078431]]\n",
            "\n",
            " [[0.        ]\n",
            "  [0.        ]\n",
            "  [0.29019608]\n",
            "  [0.74117647]\n",
            "  [0.83137255]\n",
            "  [0.74901961]\n",
            "  [0.68627451]\n",
            "  [0.6745098 ]\n",
            "  [0.68627451]\n",
            "  [0.70980392]\n",
            "  [0.7254902 ]\n",
            "  [0.7372549 ]\n",
            "  [0.74117647]\n",
            "  [0.7372549 ]\n",
            "  [0.75686275]\n",
            "  [0.77647059]\n",
            "  [0.8       ]\n",
            "  [0.81960784]\n",
            "  [0.82352941]\n",
            "  [0.82352941]\n",
            "  [0.82745098]\n",
            "  [0.7372549 ]\n",
            "  [0.7372549 ]\n",
            "  [0.76078431]\n",
            "  [0.75294118]\n",
            "  [0.84705882]\n",
            "  [0.66666667]\n",
            "  [0.        ]]\n",
            "\n",
            " [[0.00784314]\n",
            "  [0.        ]\n",
            "  [0.        ]\n",
            "  [0.        ]\n",
            "  [0.25882353]\n",
            "  [0.78431373]\n",
            "  [0.87058824]\n",
            "  [0.92941176]\n",
            "  [0.9372549 ]\n",
            "  [0.94901961]\n",
            "  [0.96470588]\n",
            "  [0.95294118]\n",
            "  [0.95686275]\n",
            "  [0.86666667]\n",
            "  [0.8627451 ]\n",
            "  [0.75686275]\n",
            "  [0.74901961]\n",
            "  [0.70196078]\n",
            "  [0.71372549]\n",
            "  [0.71372549]\n",
            "  [0.70980392]\n",
            "  [0.69019608]\n",
            "  [0.65098039]\n",
            "  [0.65882353]\n",
            "  [0.38823529]\n",
            "  [0.22745098]\n",
            "  [0.        ]\n",
            "  [0.        ]]\n",
            "\n",
            " [[0.        ]\n",
            "  [0.        ]\n",
            "  [0.        ]\n",
            "  [0.        ]\n",
            "  [0.        ]\n",
            "  [0.        ]\n",
            "  [0.        ]\n",
            "  [0.15686275]\n",
            "  [0.23921569]\n",
            "  [0.17254902]\n",
            "  [0.28235294]\n",
            "  [0.16078431]\n",
            "  [0.1372549 ]\n",
            "  [0.        ]\n",
            "  [0.        ]\n",
            "  [0.        ]\n",
            "  [0.        ]\n",
            "  [0.        ]\n",
            "  [0.        ]\n",
            "  [0.        ]\n",
            "  [0.        ]\n",
            "  [0.        ]\n",
            "  [0.        ]\n",
            "  [0.        ]\n",
            "  [0.        ]\n",
            "  [0.        ]\n",
            "  [0.        ]\n",
            "  [0.        ]]\n",
            "\n",
            " [[0.        ]\n",
            "  [0.        ]\n",
            "  [0.        ]\n",
            "  [0.        ]\n",
            "  [0.        ]\n",
            "  [0.        ]\n",
            "  [0.        ]\n",
            "  [0.        ]\n",
            "  [0.        ]\n",
            "  [0.        ]\n",
            "  [0.        ]\n",
            "  [0.        ]\n",
            "  [0.        ]\n",
            "  [0.        ]\n",
            "  [0.        ]\n",
            "  [0.        ]\n",
            "  [0.        ]\n",
            "  [0.        ]\n",
            "  [0.        ]\n",
            "  [0.        ]\n",
            "  [0.        ]\n",
            "  [0.        ]\n",
            "  [0.        ]\n",
            "  [0.        ]\n",
            "  [0.        ]\n",
            "  [0.        ]\n",
            "  [0.        ]\n",
            "  [0.        ]]\n",
            "\n",
            " [[0.        ]\n",
            "  [0.        ]\n",
            "  [0.        ]\n",
            "  [0.        ]\n",
            "  [0.        ]\n",
            "  [0.        ]\n",
            "  [0.        ]\n",
            "  [0.        ]\n",
            "  [0.        ]\n",
            "  [0.        ]\n",
            "  [0.        ]\n",
            "  [0.        ]\n",
            "  [0.        ]\n",
            "  [0.        ]\n",
            "  [0.        ]\n",
            "  [0.        ]\n",
            "  [0.        ]\n",
            "  [0.        ]\n",
            "  [0.        ]\n",
            "  [0.        ]\n",
            "  [0.        ]\n",
            "  [0.        ]\n",
            "  [0.        ]\n",
            "  [0.        ]\n",
            "  [0.        ]\n",
            "  [0.        ]\n",
            "  [0.        ]\n",
            "  [0.        ]]]\n"
          ]
        }
      ]
    },
    {
      "cell_type": "code",
      "source": [
        "train_images.shape"
      ],
      "metadata": {
        "colab": {
          "base_uri": "https://localhost:8080/"
        },
        "id": "cBVeGsnJm-zj",
        "outputId": "476cc4d3-8f8f-4d5b-fb2a-3b8bcbc7cfd0"
      },
      "execution_count": 22,
      "outputs": [
        {
          "output_type": "execute_result",
          "data": {
            "text/plain": [
              "(60000, 28, 28, 1)"
            ]
          },
          "metadata": {},
          "execution_count": 22
        }
      ]
    },
    {
      "cell_type": "code",
      "source": [
        "test_images.shape"
      ],
      "metadata": {
        "colab": {
          "base_uri": "https://localhost:8080/"
        },
        "id": "08lCEuF8nKPd",
        "outputId": "101247ea-8972-4a19-b380-fe9c24d33468"
      },
      "execution_count": 23,
      "outputs": [
        {
          "output_type": "execute_result",
          "data": {
            "text/plain": [
              "(10000, 28, 28, 1)"
            ]
          },
          "metadata": {},
          "execution_count": 23
        }
      ]
    },
    {
      "cell_type": "markdown",
      "source": [
        "Convolutional Neural Network"
      ],
      "metadata": {
        "id": "rwWXhk3cnNcZ"
      }
    },
    {
      "cell_type": "code",
      "source": [
        "\n",
        "# Build the convolutional base\n",
        "model = models.Sequential()\n",
        "model.add(layers.Conv2D(32, (3, 3), activation='relu', input_shape=(28, 28, 1)))\n",
        "model.add(layers.MaxPooling2D((2, 2)))\n",
        "model.add(layers.Conv2D(64, (3, 3), activation='relu'))\n",
        "model.add(layers.MaxPooling2D((2, 2)))\n",
        "model.add(layers.Conv2D(64, (3, 3), activation='relu'))\n",
        "\n",
        "# Add Dense layers on top\n",
        "model.add(layers.Flatten())\n",
        "model.add(layers.Dense(64, activation='relu'))\n",
        "model.add(layers.Dense(10))"
      ],
      "metadata": {
        "id": "dnBrFpOhnMAC"
      },
      "execution_count": 24,
      "outputs": []
    },
    {
      "cell_type": "code",
      "source": [
        "# Compile and train the model\n",
        "model.compile(optimizer='adam',\n",
        "              loss=tf.keras.losses.SparseCategoricalCrossentropy(from_logits=True),\n",
        "              metrics=['accuracy'])"
      ],
      "metadata": {
        "id": "pcFTP7LJnUbK"
      },
      "execution_count": 25,
      "outputs": []
    },
    {
      "cell_type": "code",
      "source": [
        "\n",
        "history = model.fit(train_images, train_labels, epochs=5,\n",
        "                    validation_data=(test_images, test_labels))"
      ],
      "metadata": {
        "colab": {
          "base_uri": "https://localhost:8080/"
        },
        "id": "HVu4geYPnXlU",
        "outputId": "270a57ea-88fc-4178-9e0c-5e5cbbdbea3b"
      },
      "execution_count": 26,
      "outputs": [
        {
          "output_type": "stream",
          "name": "stdout",
          "text": [
            "Epoch 1/5\n",
            "1875/1875 [==============================] - 16s 6ms/step - loss: 0.4859 - accuracy: 0.8219 - val_loss: 0.3594 - val_accuracy: 0.8722\n",
            "Epoch 2/5\n",
            "1875/1875 [==============================] - 9s 5ms/step - loss: 0.3174 - accuracy: 0.8832 - val_loss: 0.3169 - val_accuracy: 0.8824\n",
            "Epoch 3/5\n",
            "1875/1875 [==============================] - 9s 5ms/step - loss: 0.2702 - accuracy: 0.8997 - val_loss: 0.3009 - val_accuracy: 0.8914\n",
            "Epoch 4/5\n",
            "1875/1875 [==============================] - 10s 5ms/step - loss: 0.2406 - accuracy: 0.9109 - val_loss: 0.2774 - val_accuracy: 0.9000\n",
            "Epoch 5/5\n",
            "1875/1875 [==============================] - 11s 6ms/step - loss: 0.2182 - accuracy: 0.9188 - val_loss: 0.2927 - val_accuracy: 0.8971\n"
          ]
        }
      ]
    },
    {
      "cell_type": "code",
      "source": [
        "\n",
        "# Evaluate the model\n",
        "test_loss, test_acc = model.evaluate(test_images,  test_labels, verbose=2)\n",
        "print('\\nTest accuracy:', test_acc)"
      ],
      "metadata": {
        "colab": {
          "base_uri": "https://localhost:8080/"
        },
        "id": "uaWxf1T8naIl",
        "outputId": "042caa84-c042-413f-caf7-ba183b36dd81"
      },
      "execution_count": 27,
      "outputs": [
        {
          "output_type": "stream",
          "name": "stdout",
          "text": [
            "313/313 - 1s - loss: 0.2927 - accuracy: 0.8971 - 639ms/epoch - 2ms/step\n",
            "\n",
            "Test accuracy: 0.8970999717712402\n"
          ]
        }
      ]
    },
    {
      "cell_type": "code",
      "source": [
        "\n",
        "\n",
        "# Plot training & validation accuracy values\n",
        "plt.plot(history.history['accuracy'])\n",
        "plt.plot(history.history['val_accuracy'])\n",
        "plt.title('Model accuracy')\n",
        "plt.ylabel('Accuracy')\n",
        "plt.xlabel('Epoch')\n",
        "plt.legend(['Train', 'Test'], loc='upper left')\n",
        "plt.show()\n",
        "\n",
        "# Plot training & validation loss values\n",
        "plt.plot(history.history['loss'])\n",
        "plt.plot(history.history['val_loss'])\n",
        "plt.title('Model loss')\n",
        "plt.ylabel('Loss')\n",
        "plt.xlabel('Epoch')\n",
        "plt.legend(['Train', 'Test'], loc='upper left')\n",
        "plt.show()"
      ],
      "metadata": {
        "colab": {
          "base_uri": "https://localhost:8080/",
          "height": 927
        },
        "id": "OQaZQVqRnf78",
        "outputId": "1ccf9a9e-0e1c-4535-b587-5af1e86334f5"
      },
      "execution_count": 28,
      "outputs": [
        {
          "output_type": "display_data",
          "data": {
            "text/plain": [
              "<Figure size 640x480 with 1 Axes>"
            ],
            "image/png": "[encoded data removed]"
          },
          "metadata": {}
        },
        {
          "output_type": "display_data",
          "data": {
            "text/plain": [
              "<Figure size 640x480 with 1 Axes>"
            ],
            "image/png": "[encoded data removed]"
          },
          "metadata": {}
        }
      ]
    },
    {
      "cell_type": "code",
      "source": [],
      "metadata": {
        "id": "fSJKAK0Pnirr"
      },
      "execution_count": 28,
      "outputs": []
    }
  ]
}